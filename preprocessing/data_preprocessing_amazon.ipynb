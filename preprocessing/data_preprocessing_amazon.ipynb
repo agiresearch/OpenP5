{
 "cells": [
  {
   "cell_type": "code",
   "execution_count": 1,
   "id": "e5060d4b-9917-46ab-b0df-22e0bef7f07b",
   "metadata": {},
   "outputs": [],
   "source": [
    "import numpy as np\n",
    "import pandas as pd\n",
    "import os\n",
    "import random\n",
    "import pickle\n",
    "from collections import defaultdict"
   ]
  },
  {
   "cell_type": "code",
   "execution_count": 2,
   "id": "1bf5fbdb-0db2-4fb4-b0cb-bbbd2fdef532",
   "metadata": {},
   "outputs": [],
   "source": [
    "def load_pickle(filename):\n",
    "    with open(filename, \"rb\") as f:\n",
    "        return pickle.load(f)\n",
    "\n",
    "\n",
    "def save_pickle(data, filename):\n",
    "    with open(filename, \"wb\") as f:\n",
    "        pickle.dump(data, f, protocol=pickle.HIGHEST_PROTOCOL)\n",
    "        \n",
    "def check_k_core(dataframe, user_core, item_core):\n",
    "    user_count = defaultdict(int)\n",
    "    item_count = defaultdict(int)\n",
    "    for user in dataframe['uid'].tolist():\n",
    "        user_count[user] += 1\n",
    "    for item in dataframe['iid'].tolist():\n",
    "        item_count[item] += 1\n",
    "    for user in user_count:\n",
    "        if user_count[user] < user_core:\n",
    "            return user_count, item_count, False\n",
    "        \n",
    "    for item in item_count:\n",
    "        if item_count[item] < item_core:\n",
    "            return user_count, item_count, False\n",
    "        \n",
    "    return user_count, item_count, True\n",
    "\n",
    "def delete_users_from_df(dataframe, user_list):\n",
    "    dataframe = dataframe.drop(dataframe[dataframe['uid'].isin(user_list)].index).reset_index(drop=True)\n",
    "    return dataframe\n",
    "\n",
    "def delete_items_from_df(dataframe, item_list):\n",
    "    dataframe = dataframe.drop(dataframe[dataframe['iid'].isin(item_list)].index).reset_index(drop=True)\n",
    "    return dataframe\n",
    "\n",
    "def filter_k_core(dataframe, user_core, item_core):\n",
    "    user_count, item_count, isKcore = check_k_core(dataframe, user_core, item_core)\n",
    "    while not isKcore:\n",
    "        delete_user_list = [user for user in user_count if user_count[user] < user_core]\n",
    "        delete_item_list = [item for item in item_count if item_count[item] < item_core]\n",
    "        dataframe = delete_users_from_df(dataframe, delete_user_list)\n",
    "        dataframe = delete_items_from_df(dataframe, delete_item_list)\n",
    "        \n",
    "        user_count, item_count, isKcore = check_k_core(dataframe, user_core, item_core)\n",
    "    return dataframe"
   ]
  },
  {
   "cell_type": "code",
   "execution_count": 3,
   "id": "36cafb08-ef5f-46ac-bed6-92065b3e9e39",
   "metadata": {},
   "outputs": [],
   "source": [
    "def get_data_name(raw_data_name):\n",
    "    if raw_data_name == 'Books':\n",
    "        return 'Books'\n",
    "    elif raw_data_name == 'Electronics':\n",
    "        return 'Electronics'\n",
    "    elif raw_data_name == 'Beauty':\n",
    "        return 'Beauty'\n",
    "    elif raw_data_name == 'CDs_and_Vinyl':\n",
    "        return 'CDs'\n",
    "    elif raw_data_name == 'Movies_and_TV':\n",
    "        return 'Movies'\n",
    "    elif raw_data_name == 'Toys_and_Games':\n",
    "        return 'Toys'\n",
    "    elif raw_data_name == 'Clothing_Shoes_and_Jewelry':\n",
    "        return 'Clothing'\n",
    "    else:\n",
    "        raise NotImplementedError\n",
    "        \n",
    "def load_data(raw_data_folder, raw_data_name, user_core, item_core):\n",
    "    raw_data_path = os.path.join(raw_data_folder, 'ratings_{}.csv'.format(raw_data_name))\n",
    "    if not os.path.exists(raw_data_path):\n",
    "        raise FileNotFoundError\n",
    "    name_cols = ['uid', 'iid', 'rating', 'timestamp'] \n",
    "    print(f'load data from {raw_data_name} dataset')\n",
    "    df = pd.read_csv(raw_data_path, names = name_cols)\n",
    "    print(f'apply user {user_core} core and item {item_core} core filters')\n",
    "    df = filter_k_core(df, user_core, item_core)\n",
    "    df = df.sort_values('timestamp')\n",
    "    users = df['uid'].tolist()\n",
    "    items = df['iid'].tolist()\n",
    "    user_num = len(df['uid'].unique())\n",
    "    item_num = len(df['iid'].unique())\n",
    "    print(f'The {raw_data_name} dataset has {len(users)} data with {user_num} users and {item_num} items')\n",
    "    assert len(users) == len(items)\n",
    "    user_sequence = defaultdict(list)\n",
    "    for i in range(len(users)):\n",
    "        user = users[i]\n",
    "        item = items[i]\n",
    "        user_sequence[user].append(item)\n",
    "    return user_sequence\n",
    "\n",
    "def write_sequence_into_file(data_path, raw_data_name, user_sequence):\n",
    "    data_name = get_data_name(raw_data_name)\n",
    "    data_folder = os.path.join(data_path,data_name)\n",
    "    if not os.path.exists(data_folder):\n",
    "        os.makedirs(data_folder)\n",
    "    data_file = os.path.join(data_folder, 'user_sequence.txt')\n",
    "    with open(data_file, 'w') as out:\n",
    "        for user, items in user_sequence.items():\n",
    "            out.write(user + ' ' + ' '.join(items) + '\\n')"
   ]
  },
  {
   "cell_type": "code",
   "execution_count": 4,
   "id": "c489ebf9-f3da-4583-a3a9-f00a44e8808e",
   "metadata": {},
   "outputs": [
    {
     "name": "stdout",
     "output_type": "stream",
     "text": [
      "load data from Books dataset\n",
      "apply user 5 core and item 5 core filters\n",
      "The Books dataset has 8898041 data with 603668 users and 367982 items\n"
     ]
    }
   ],
   "source": [
    "raw_data_folder = '../raw_data/Amazon/'\n",
    "raw_data_name = 'Books'\n",
    "data_path = '../data/'\n",
    "user_sequence = load_data(raw_data_folder, raw_data_name, 5, 5)\n",
    "write_sequence_into_file(data_path, raw_data_name, user_sequence)"
   ]
  },
  {
   "cell_type": "code",
   "execution_count": 5,
   "id": "256edefa-186b-4dfe-b401-79000f8d116f",
   "metadata": {},
   "outputs": [
    {
     "name": "stdout",
     "output_type": "stream",
     "text": [
      "load data from Electronics dataset\n",
      "apply user 5 core and item 5 core filters\n",
      "The Electronics dataset has 1689188 data with 192403 users and 63001 items\n"
     ]
    }
   ],
   "source": [
    "raw_data_name = 'Electronics'\n",
    "user_sequence = load_data(raw_data_folder, raw_data_name, 5, 5)\n",
    "write_sequence_into_file(data_path, raw_data_name, user_sequence)"
   ]
  },
  {
   "cell_type": "code",
   "execution_count": 6,
   "id": "edc0e1bc-1d7d-4444-8cc1-c43e3457d438",
   "metadata": {},
   "outputs": [
    {
     "name": "stdout",
     "output_type": "stream",
     "text": [
      "load data from CDs_and_Vinyl dataset\n",
      "apply user 5 core and item 5 core filters\n",
      "The CDs_and_Vinyl dataset has 1097592 data with 75258 users and 64443 items\n"
     ]
    }
   ],
   "source": [
    "raw_data_name = 'CDs_and_Vinyl'\n",
    "user_sequence = load_data(raw_data_folder, raw_data_name, 5, 5)\n",
    "write_sequence_into_file(data_path, raw_data_name, user_sequence)"
   ]
  },
  {
   "cell_type": "code",
   "execution_count": 7,
   "id": "35653106-f0ac-4424-b244-666023eea284",
   "metadata": {},
   "outputs": [
    {
     "name": "stdout",
     "output_type": "stream",
     "text": [
      "load data from Movies_and_TV dataset\n",
      "apply user 5 core and item 5 core filters\n",
      "The Movies_and_TV dataset has 1697533 data with 123960 users and 50052 items\n"
     ]
    }
   ],
   "source": [
    "raw_data_name = 'Movies_and_TV'\n",
    "user_sequence = load_data(raw_data_folder, raw_data_name, 5, 5)\n",
    "write_sequence_into_file(data_path, raw_data_name, user_sequence)"
   ]
  },
  {
   "cell_type": "code",
   "execution_count": 8,
   "id": "1b65382f-9572-4fea-a0aa-76e8e953e2ef",
   "metadata": {},
   "outputs": [
    {
     "name": "stdout",
     "output_type": "stream",
     "text": [
      "load data from Toys_and_Games dataset\n",
      "apply user 5 core and item 5 core filters\n",
      "The Toys_and_Games dataset has 167597 data with 19412 users and 11924 items\n"
     ]
    }
   ],
   "source": [
    "raw_data_name = 'Toys_and_Games'\n",
    "user_sequence = load_data(raw_data_folder, raw_data_name, 5, 5)\n",
    "write_sequence_into_file(data_path, raw_data_name, user_sequence)"
   ]
  },
  {
   "cell_type": "code",
   "execution_count": 9,
   "id": "fc322217-3bdd-4b46-b7eb-d0d413fb4b82",
   "metadata": {},
   "outputs": [
    {
     "name": "stdout",
     "output_type": "stream",
     "text": [
      "load data from Clothing_Shoes_and_Jewelry dataset\n",
      "apply user 5 core and item 5 core filters\n",
      "The Clothing_Shoes_and_Jewelry dataset has 278677 data with 39387 users and 23033 items\n"
     ]
    }
   ],
   "source": [
    "raw_data_name = 'Clothing_Shoes_and_Jewelry'\n",
    "user_sequence = load_data(raw_data_folder, raw_data_name, 5, 5)\n",
    "write_sequence_into_file(data_path, raw_data_name, user_sequence)"
   ]
  },
  {
   "cell_type": "code",
   "execution_count": 5,
   "id": "196a8e23-c8d8-4e9e-b414-deb73124f9c4",
   "metadata": {},
   "outputs": [
    {
     "data": {
      "text/plain": [
       "<bound method DataFrame.count of                  iid             uid  rating   timestamp\n",
       "0         0000031895  A23K73OVXJ04EG     5.0  1391212800\n",
       "1         0000031895  A2681T699HV6H1     4.0  1384905600\n",
       "2         0000031895  A374PA18DCGS5Y     1.0  1477008000\n",
       "3         0000031895  A14PVW2N5YBWSA     5.0  1476748800\n",
       "4         0000031895  A2KWBC44QI2567     1.0  1476662400\n",
       "...              ...             ...     ...         ...\n",
       "12980832  B01HJHHBHG  A33DFHRKGPDEF7     3.0  1502323200\n",
       "12980833  B01HJHHBHG   AT5N4QPWM1GKL     4.0  1501372800\n",
       "12980834  B01HJHHBHG  A3ONWSRNZFNC3U     5.0  1497139200\n",
       "12980835  B01HJHHBHG  A1OJNTT9ZTT82A     5.0  1496966400\n",
       "12980836  B01HJFUCHO  A2SHB9ITG7EALR     5.0  1526515200\n",
       "\n",
       "[12980837 rows x 4 columns]>"
      ]
     },
     "execution_count": 5,
     "metadata": {},
     "output_type": "execute_result"
    }
   ],
   "source": [
    "name_cols = ['iid', 'uid', 'rating', 'timestamp'] \n",
    "df = pd.read_csv(raw_data_path, names = name_cols)\n",
    "df.count"
   ]
  },
  {
   "cell_type": "code",
   "execution_count": 8,
   "id": "f9b881a7-a1e0-41a7-aea9-d0127c456f78",
   "metadata": {},
   "outputs": [
    {
     "data": {
      "text/plain": [
       "True"
      ]
     },
     "execution_count": 8,
     "metadata": {},
     "output_type": "execute_result"
    }
   ],
   "source": [
    "u_count, i_count, check = check_k_core(df, 5, 5)\n",
    "check"
   ]
  },
  {
   "cell_type": "code",
   "execution_count": 7,
   "id": "8d5739a1-f13c-4b52-b964-82ed1cc0aaf8",
   "metadata": {},
   "outputs": [
    {
     "data": {
      "text/plain": [
       "<bound method DataFrame.count of                 iid             uid  rating   timestamp\n",
       "0        0000032034  A180LQZBUWVOLF     5.0  1433289600\n",
       "1        0000032034   ATMFGKU5SVEYY     1.0  1427846400\n",
       "2        0000032034  A1QE70QBJ8U6ZG     5.0  1421107200\n",
       "3        0000032034  A22CP6Z73MZTYU     5.0  1419292800\n",
       "4        0000032034  A22L28G8NRNLLN     4.0  1418601600\n",
       "...             ...             ...     ...         ...\n",
       "2835120  B01HJGAJ9O  A3TN0U64HONOPB     5.0  1522886400\n",
       "2835121  B01HJGAJ9O   AJDQLM8PT3YWT     5.0  1519862400\n",
       "2835122  B01HJHHBHG  A3QK5ZLRE2KHLL     5.0  1521244800\n",
       "2835123  B01HJHHBHG  A3VDML80KNR9QQ     5.0  1509148800\n",
       "2835124  B01HJHHBHG  A3ONWSRNZFNC3U     5.0  1497139200\n",
       "\n",
       "[2835125 rows x 4 columns]>"
      ]
     },
     "execution_count": 7,
     "metadata": {},
     "output_type": "execute_result"
    }
   ],
   "source": [
    "df = filter_k_core(df, 5, 5)\n",
    "df.count"
   ]
  },
  {
   "cell_type": "code",
   "execution_count": 9,
   "id": "7e24b78b-2fbe-44d9-836a-b607a742b18b",
   "metadata": {},
   "outputs": [
    {
     "data": {
      "text/plain": [
       "<bound method DataFrame.count of                 iid             uid  rating   timestamp\n",
       "2489     B00004U9IY  A1M2T0J45TTE64     5.0   968976000\n",
       "57986    B0007VZVGK  A1DJ7PH72PMJIO     5.0   995155200\n",
       "2779     B000051WSI   A1RPTVW5VEOSI     5.0  1014249600\n",
       "1685     B00004S9I0  A1M2T0J45TTE64     5.0  1015459200\n",
       "89474    B000B545E6  A3FS8HDE2BTD5Z     5.0  1020211200\n",
       "...             ...             ...     ...         ...\n",
       "2834348  B01HCKR9ZE   AW7CIDUOZLIVJ     4.0  1538438400\n",
       "2834907  B01HHB2HK0  A1P3ROFFUTEWKG     2.0  1538524800\n",
       "2834347  B01HCKR9ZE  A11AT3PC06Y5WT     5.0  1538524800\n",
       "2834595  B01HEGK5U2   A13H2ZRENPV9E     5.0  1538524800\n",
       "2835067  B01HIY7NPU  A30DF0WFD9U1PT     1.0  1538611200\n",
       "\n",
       "[2835125 rows x 4 columns]>"
      ]
     },
     "execution_count": 9,
     "metadata": {},
     "output_type": "execute_result"
    }
   ],
   "source": [
    "df = df.sort_values('timestamp')\n",
    "df.count"
   ]
  },
  {
   "cell_type": "code",
   "execution_count": 10,
   "id": "ad69eea5-0873-4add-8d61-9681923257c1",
   "metadata": {},
   "outputs": [],
   "source": [
    "users = df['uid'].tolist()\n",
    "items = df['iid'].tolist()"
   ]
  },
  {
   "cell_type": "code",
   "execution_count": 13,
   "id": "caa0620a-59a7-4bb3-a840-118c7df08c26",
   "metadata": {},
   "outputs": [
    {
     "data": {
      "text/plain": [
       "331844"
      ]
     },
     "execution_count": 13,
     "metadata": {},
     "output_type": "execute_result"
    }
   ],
   "source": [
    "len(df['uid'].unique())"
   ]
  },
  {
   "cell_type": "code",
   "execution_count": 31,
   "id": "288360b6-aa0c-4f9b-abaf-915ef969ea6e",
   "metadata": {},
   "outputs": [],
   "source": [
    "import json\n",
    "def load_json(file_path):\n",
    "    with open(file_path, \"r\") as f:\n",
    "        return json.load(f)\n",
    "    \n",
    "def ReadLineFromFile(path):\n",
    "    lines = []\n",
    "    with open(path,'r') as fd:\n",
    "        for line in fd:\n",
    "            lines.append(line.rstrip('\\n'))\n",
    "    return lines"
   ]
  },
  {
   "cell_type": "code",
   "execution_count": 30,
   "id": "65f93804-b407-4b92-b9ae-bca41f916d92",
   "metadata": {},
   "outputs": [
    {
     "name": "stdout",
     "output_type": "stream",
     "text": [
      "dict_keys(['user2id', 'item2id', 'id2user', 'id2item', 'attribute2id', 'id2attribute', 'attributeid2num'])\n"
     ]
    }
   ],
   "source": [
    "datamaps = load_json(\"../../P5/data/beauty_old/datamaps.json\")\n",
    "print(datamaps.keys())"
   ]
  },
  {
   "cell_type": "code",
   "execution_count": 32,
   "id": "502f73a8-211b-45e0-be0e-c0c1ee6465a3",
   "metadata": {},
   "outputs": [],
   "source": [
    "sequential_data = ReadLineFromFile('../../P5/data/beauty_old/sequential_data.txt')"
   ]
  },
  {
   "cell_type": "code",
   "execution_count": 36,
   "id": "abf59328-af23-44dc-85ee-530af7c78760",
   "metadata": {},
   "outputs": [],
   "source": [
    "original_data = []\n",
    "id2u = datamaps['id2user']\n",
    "id2i = datamaps['id2item']\n",
    "for line in sequential_data:\n",
    "    line= line.split()\n",
    "    data = [id2u[line[0]]] + [id2i[line[i]] for i in range(1, len(line))]\n",
    "    original_data.append(data)"
   ]
  },
  {
   "cell_type": "code",
   "execution_count": 37,
   "id": "62d57332-9831-4058-a2d4-526ee616c4eb",
   "metadata": {},
   "outputs": [],
   "source": [
    "with open('../data/Beauty/user_sequence.txt', 'w') as out:\n",
    "    for data in original_data:\n",
    "        out.write(' '.join(data) + '\\n')"
   ]
  },
  {
   "cell_type": "code",
   "execution_count": 40,
   "id": "cef68fd0-de83-479c-ac58-2898069ed83f",
   "metadata": {},
   "outputs": [],
   "source": [
    "sequential_data = ReadLineFromFile('../data/Beauty/user_sequence.txt')\n",
    "user_seq_dict = dict()\n",
    "for line in sequential_data:\n",
    "    user_seq = line.split(\" \")\n",
    "    user_seq_dict[user_seq[0]] = user_seq[1:]"
   ]
  },
  {
   "cell_type": "code",
   "execution_count": 41,
   "id": "9a82d89b-bbfd-4b62-8c55-2fcd62264ccf",
   "metadata": {},
   "outputs": [
    {
     "data": {
      "text/plain": [
       "'A1YJEY40YUW4SE B004756YJA B004ZT0SSG B0020YLEYK 7806397051 B002WLWX82'"
      ]
     },
     "execution_count": 41,
     "metadata": {},
     "output_type": "execute_result"
    }
   ],
   "source": [
    "sequential_data[0]"
   ]
  },
  {
   "cell_type": "code",
   "execution_count": 42,
   "id": "709a4260-d79a-4f6f-8a44-562a6552345e",
   "metadata": {},
   "outputs": [
    {
     "data": {
      "text/plain": [
       "['B004756YJA', 'B004ZT0SSG', 'B0020YLEYK', '7806397051', 'B002WLWX82']"
      ]
     },
     "execution_count": 42,
     "metadata": {},
     "output_type": "execute_result"
    }
   ],
   "source": [
    "user_seq_dict['A1YJEY40YUW4SE']"
   ]
  },
  {
   "cell_type": "code",
   "execution_count": 43,
   "id": "4774e754-90d9-4c5b-8ea4-e5e7132292db",
   "metadata": {},
   "outputs": [],
   "source": [
    "sequential_data = ReadLineFromFile('../data/Beauty/user_sequence.txt')\n",
    "user_seq_dict = dict()\n",
    "for line in sequential_data:\n",
    "    user_seq = line.split(\" \")\n",
    "    user_seq_dict[user_seq[0]] = user_seq[1:]"
   ]
  },
  {
   "cell_type": "code",
   "execution_count": 46,
   "id": "4a291b02-a163-497e-b90e-c1901c6fc750",
   "metadata": {},
   "outputs": [],
   "source": [
    "user_map = dict()\n",
    "for user in user_seq_dict.keys():\n",
    "    user_map[user] = len(user_map) + 1"
   ]
  },
  {
   "cell_type": "code",
   "execution_count": 47,
   "id": "737b716e-4def-4b47-8767-0029f9c5b992",
   "metadata": {},
   "outputs": [
    {
     "data": {
      "text/plain": [
       "1"
      ]
     },
     "execution_count": 47,
     "metadata": {},
     "output_type": "execute_result"
    }
   ],
   "source": [
    "user_map['A1YJEY40YUW4SE']"
   ]
  },
  {
   "cell_type": "code",
   "execution_count": 50,
   "id": "92da785e-56eb-4716-a86e-f2bd67ff8171",
   "metadata": {},
   "outputs": [],
   "source": [
    "def WriteDictToFile(path, write_dict):\n",
    "    with open(path, 'w') as out:\n",
    "        for user, items in write_dict.items():\n",
    "            if type(items) == list:\n",
    "                out.write(user + ' ' + ' '.join(items) + '\\n')\n",
    "            else:\n",
    "                out.write(user + ' ' + str(items) + '\\n')"
   ]
  },
  {
   "cell_type": "code",
   "execution_count": 51,
   "id": "38ecdbb1-9df0-4568-9d4f-f3462486c0d8",
   "metadata": {},
   "outputs": [],
   "source": [
    "WriteDictToFile('../data/Beauty/user_map.txt', user_map)"
   ]
  },
  {
   "cell_type": "code",
   "execution_count": 3,
   "id": "a85cce28-9514-40d6-a951-88723493b99b",
   "metadata": {},
   "outputs": [
    {
     "data": {
      "text/plain": [
       "0"
      ]
     },
     "execution_count": 3,
     "metadata": {},
     "output_type": "execute_result"
    }
   ],
   "source": [
    "2 // 3"
   ]
  },
  {
   "cell_type": "code",
   "execution_count": null,
   "id": "0ff9049f-e3db-46d4-9bbb-4a23eed2e1d6",
   "metadata": {},
   "outputs": [],
   "source": [
    "import torch.distributed as dist\n",
    "def cal(rank):\n",
    "    "
   ]
  }
 ],
 "metadata": {
  "kernelspec": {
   "display_name": "SP5",
   "language": "python",
   "name": "sp5"
  },
  "language_info": {
   "codemirror_mode": {
    "name": "ipython",
    "version": 3
   },
   "file_extension": ".py",
   "mimetype": "text/x-python",
   "name": "python",
   "nbconvert_exporter": "python",
   "pygments_lexer": "ipython3",
   "version": "3.9.16"
  }
 },
 "nbformat": 4,
 "nbformat_minor": 5
}
